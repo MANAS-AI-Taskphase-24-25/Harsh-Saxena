{
 "cells": [
  {
   "cell_type": "code",
   "execution_count": 1,
   "id": "524762ac-5df7-4001-86a2-21081f27f48d",
   "metadata": {},
   "outputs": [],
   "source": [
    "import os\n",
    "import numpy as np\n",
    "from PIL import Image"
   ]
  },
  {
   "cell_type": "code",
   "execution_count": 2,
   "id": "81f9e86d-db73-4f39-9001-8be171c4b0cd",
   "metadata": {},
   "outputs": [],
   "source": [
    "def load_data(folder):\n",
    "    categories = ['jade', 'james', 'jane', 'joel', 'jovi']\n",
    "    data = []\n",
    "    labels = []\n",
    "    \n",
    "    for category in categories:\n",
    "        path = os.path.join(folder, category)\n",
    "        label = categories.index(category)\n",
    "        \n",
    "        for img_name in os.listdir(path):\n",
    "            img_path = os.path.join(path, img_name)\n",
    "            img = Image.open(img_path).convert('L')  \n",
    "            img = img.resize((64, 64)) \n",
    "            data.append(np.array(img).flatten() / 255.0)  \n",
    "            labels.append(label)\n",
    "    \n",
    "    return np.array(data), np.array(labels)"
   ]
  },
  {
   "cell_type": "code",
   "execution_count": 3,
   "id": "7fc9c9ed-fef1-4626-8a1a-af6af5359c58",
   "metadata": {},
   "outputs": [],
   "source": [
    "train_data, train_labels = load_data(\"train\")\n",
    "test_data, test_labels = load_data(\"test\")"
   ]
  },
  {
   "cell_type": "code",
   "execution_count": 4,
   "id": "8c3db7a0-3574-489f-9326-d31b985a28e2",
   "metadata": {},
   "outputs": [],
   "source": [
    "def one_hot_encode(labels, num_classes):\n",
    "    return np.eye(num_classes)[labels]\n",
    "\n",
    "num_classes = 5\n",
    "train_labels = one_hot_encode(train_labels, num_classes)\n",
    "test_labels = one_hot_encode(test_labels, num_classes)"
   ]
  },
  {
   "cell_type": "code",
   "execution_count": 5,
   "id": "a39698ba-b881-4b9b-9991-4e6920675131",
   "metadata": {},
   "outputs": [],
   "source": [
    "class NeuralNetwork:\n",
    "    def __init__(self, input_size, hidden_size, output_size, lr=0.01):\n",
    "        self.lr = lr\n",
    "        self.W1 = np.random.randn(input_size, hidden_size) * 0.01  \n",
    "        self.b1 = np.zeros((1, hidden_size)) \n",
    "        self.W2 = np.random.randn(hidden_size, output_size) * 0.01 \n",
    "        self.b2 = np.zeros((1, output_size))  \n",
    "    def relu(self, x):\n",
    "        return np.maximum(0, x)\n",
    "    \n",
    "    def softmax(self, x):\n",
    "        exp_x = np.exp(x - np.max(x, axis=1, keepdims=True))\n",
    "        return exp_x / np.sum(exp_x, axis=1, keepdims=True)\n",
    "    \n",
    "    def forward(self, X):\n",
    "        self.z1 = np.dot(X, self.W1) + self.b1\n",
    "        self.a1 = self.relu(self.z1)\n",
    "        self.z2 = np.dot(self.a1, self.W2) + self.b2\n",
    "        self.a2 = self.softmax(self.z2)\n",
    "        return self.a2\n",
    "    \n",
    "    def backward(self, X, y, output):\n",
    "        m = X.shape[0]\n",
    "        dz2 = output - y\n",
    "        dW2 = np.dot(self.a1.T, dz2) / m\n",
    "        db2 = np.sum(dz2, axis=0, keepdims=True) / m\n",
    "        dz1 = np.dot(dz2, self.W2.T) * (self.a1 > 0)\n",
    "        dW1 = np.dot(X.T, dz1) / m\n",
    "        db1 = np.sum(dz1, axis=0, keepdims=True) / m\n",
    "        \n",
    "        self.W2 -= self.lr * dW2\n",
    "        self.b2 -= self.lr * db2\n",
    "        self.W1 -= self.lr * dW1\n",
    "        self.b1 -= self.lr * db1\n",
    "    \n",
    "    def compute_loss(self, y_true, y_pred):\n",
    "        m = y_true.shape[0]\n",
    "        return -np.sum(y_true * np.log(y_pred + 1e-9)) / m  \n",
    "    \n",
    "    def train(self, X, y, epochs=100):\n",
    "        for epoch in range(epochs):\n",
    "            output = self.forward(X)\n",
    "            loss = self.compute_loss(y, output)\n",
    "            self.backward(X, y, output)\n",
    "            if epoch % 10 == 0:\n",
    "                print(f\"Epoch {epoch}, Loss: {loss:.4f}\")\n",
    "    \n",
    "    def predict(self, X):\n",
    "        output = self.forward(X)\n",
    "        return np.argmax(output, axis=1)"
   ]
  },
  {
   "cell_type": "code",
   "execution_count": 6,
   "id": "beb54701-d494-4079-9698-0d8dea4a2d01",
   "metadata": {},
   "outputs": [],
   "source": [
    "input_size = 64 * 64  \n",
    "hidden_size = 256\n",
    "output_size = 5"
   ]
  },
  {
   "cell_type": "code",
   "execution_count": 7,
   "id": "ca392aaf-8747-43ca-b6ab-0d72c46ee67f",
   "metadata": {},
   "outputs": [
    {
     "name": "stdout",
     "output_type": "stream",
     "text": [
      "Epoch 0, Loss: 1.6059\n",
      "Epoch 10, Loss: 1.5918\n",
      "Epoch 20, Loss: 1.5778\n",
      "Epoch 30, Loss: 1.5629\n",
      "Epoch 40, Loss: 1.5467\n",
      "Epoch 50, Loss: 1.5288\n",
      "Epoch 60, Loss: 1.5088\n",
      "Epoch 70, Loss: 1.4864\n",
      "Epoch 80, Loss: 1.4611\n",
      "Epoch 90, Loss: 1.4330\n",
      "Epoch 100, Loss: 1.4021\n",
      "Epoch 110, Loss: 1.3688\n",
      "Epoch 120, Loss: 1.3340\n",
      "Epoch 130, Loss: 1.2985\n",
      "Epoch 140, Loss: 1.2630\n",
      "Epoch 150, Loss: 1.2282\n",
      "Epoch 160, Loss: 1.1945\n",
      "Epoch 170, Loss: 1.1619\n",
      "Epoch 180, Loss: 1.1306\n",
      "Epoch 190, Loss: 1.1004\n"
     ]
    }
   ],
   "source": [
    "nn = NeuralNetwork(input_size, hidden_size, output_size, lr=0.01)\n",
    "nn.train(train_data, train_labels, epochs=200)"
   ]
  },
  {
   "cell_type": "code",
   "execution_count": 8,
   "id": "3224955e-1625-4b6c-b641-8047e7dec781",
   "metadata": {},
   "outputs": [
    {
     "name": "stdout",
     "output_type": "stream",
     "text": [
      "Test Accuracy: 67.20%\n"
     ]
    }
   ],
   "source": [
    "predictions = nn.predict(test_data)\n",
    "true_labels = np.argmax(test_labels, axis=1)\n",
    "accuracy = np.mean(predictions == true_labels)\n",
    "print(f\"Test Accuracy: {accuracy * 100:.2f}%\")"
   ]
  }
 ],
 "metadata": {
  "kernelspec": {
   "display_name": "Python 3 (ipykernel)",
   "language": "python",
   "name": "python3"
  },
  "language_info": {
   "codemirror_mode": {
    "name": "ipython",
    "version": 3
   },
   "file_extension": ".py",
   "mimetype": "text/x-python",
   "name": "python",
   "nbconvert_exporter": "python",
   "pygments_lexer": "ipython3",
   "version": "3.12.7"
  }
 },
 "nbformat": 4,
 "nbformat_minor": 5
}
