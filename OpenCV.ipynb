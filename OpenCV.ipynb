{
 "cells": [
  {
   "cell_type": "code",
   "execution_count": 1,
   "id": "9d1098d8-91bd-46ae-a652-b636c71cfee0",
   "metadata": {},
   "outputs": [],
   "source": [
    "import numpy as np\n",
    "import cv2 as cv"
   ]
  },
  {
   "cell_type": "code",
   "execution_count": 2,
   "id": "cf52c40a-709b-4047-828f-30ff9295ef2d",
   "metadata": {},
   "outputs": [],
   "source": [
    "video_path = \"volleyball_match.mp4\"\n",
    "cap = cv.VideoCapture(video_path)"
   ]
  },
  {
   "cell_type": "code",
   "execution_count": 3,
   "id": "6ac6ec59-6f88-4873-b0ba-055413286557",
   "metadata": {},
   "outputs": [],
   "source": [
    "frame_width = int(cap.get(cv.CAP_PROP_FRAME_WIDTH))\n",
    "frame_height = int(cap.get(cv.CAP_PROP_FRAME_HEIGHT))\n",
    "fps = int(cap.get(cv.CAP_PROP_FPS))"
   ]
  },
  {
   "cell_type": "code",
   "execution_count": 4,
   "id": "ffc65f0f-bba4-4a39-b5ca-904b51bae154",
   "metadata": {},
   "outputs": [],
   "source": [
    "output_path = \"volleyball_match_output.avi\"\n",
    "fourcc = cv.VideoWriter_fourcc(*'XVID')\n",
    "out = cv.VideoWriter(output_path, fourcc, fps, (frame_width, frame_height))"
   ]
  },
  {
   "cell_type": "code",
   "execution_count": 5,
   "id": "d46bbf61-97ac-4e47-9b03-0ccdebbc9a2e",
   "metadata": {},
   "outputs": [],
   "source": [
    "bg_subtractor = cv.createBackgroundSubtractorMOG2(detectShadows=False)"
   ]
  },
  {
   "cell_type": "code",
   "execution_count": 6,
   "id": "b7ea04cd-96f7-4ee8-ae49-47ac8d952398",
   "metadata": {},
   "outputs": [],
   "source": [
    "COLOR_RANGES = {\n",
    "    \"red\": (np.array([144, 208, 123]), np.array([255, 255, 255])),\n",
    "    \"white\": (np.array([0, 0, 200]), np.array([180, 40, 255])),\n",
    "    \"yellow\": (np.array([10, 100, 100]), np.array([40, 255, 255])),\n",
    "    \"blue\": (np.array([102, 73, 17]), np.array([147, 255, 255])),\n",
    "}"
   ]
  },
  {
   "cell_type": "code",
   "execution_count": 7,
   "id": "b1d34a71-78ad-41b1-9339-8d322654ad05",
   "metadata": {},
   "outputs": [],
   "source": [
    "KERNEL = np.ones((5, 5), np.uint8)\n",
    "total_team1_players, total_team2_players = [], []"
   ]
  },
  {
   "cell_type": "code",
   "execution_count": 8,
   "id": "33bda5cc-99d0-481f-a019-c39f669c2d54",
   "metadata": {},
   "outputs": [],
   "source": [
    "def circularity(area, perimeter):\n",
    "    return (4 * np.pi * area) / (perimeter ** 2) if perimeter > 0 else 0"
   ]
  },
  {
   "cell_type": "code",
   "execution_count": 9,
   "id": "f4ec4908-b844-40a7-a497-2339c9c87694",
   "metadata": {},
   "outputs": [],
   "source": [
    "def is_valid_player(cnt):\n",
    "    area = cv.contourArea(cnt)\n",
    "    x, y, w, h = cv.boundingRect(cnt)\n",
    "    \n",
    "    aspect_ratio = w / float(h) \n",
    "    if area > 2000 and aspect_ratio < 1.2:  \n",
    "        return True\n",
    "    return False"
   ]
  },
  {
   "cell_type": "code",
   "execution_count": 10,
   "id": "318566b1-baa7-4461-88b4-ee2ff36688fc",
   "metadata": {},
   "outputs": [],
   "source": [
    "def remove_extra_ball(frame):\n",
    "    mask = np.zeros(frame.shape[:2], dtype=np.uint8)\n",
    "    cv.rectangle(mask, (450, 100), (550, 150), 255, -1)\n",
    "    return cv.bitwise_and(frame, frame, mask=cv.bitwise_not(mask))\n"
   ]
  },
  {
   "cell_type": "code",
   "execution_count": 11,
   "id": "7c274b5c-231d-4eef-9df7-059e88303a8a",
   "metadata": {},
   "outputs": [],
   "source": [
    "def apply_mask(hsv, color_name, roi_mask=None, dilation_iterations=0):\n",
    "    \"\"\"Apply color masking and ROI filtering.\"\"\"\n",
    "    lower, upper = COLOR_RANGES[color_name]\n",
    "    mask = cv.inRange(hsv, lower, upper)\n",
    "    if roi_mask is not None:\n",
    "        mask = cv.bitwise_and(mask, roi_mask)\n",
    "    if dilation_iterations > 0:\n",
    "        mask = cv.dilate(mask, None, iterations=dilation_iterations)\n",
    "    return mask"
   ]
  },
  {
   "cell_type": "code",
   "execution_count": 12,
   "id": "01d3f37a-f6e3-47fe-bc56-225a787bb225",
   "metadata": {},
   "outputs": [],
   "source": [
    "def create_roi_mask(frame_shape):\n",
    "    roi_white_team2 = np.zeros(frame_shape[:2], dtype=np.uint8)\n",
    "    mask_roi_team2 = np.zeros(frame_shape[:2], dtype=np.uint8)\n",
    "\n",
    "    cv.rectangle(roi_white_team2, (300, 328), (1020, 700), 255, -1)\n",
    "    cv.rectangle(mask_roi_team2, (100, 200), (1200, 700), 255, -1)\n",
    "    cv.rectangle(mask_roi_team2, (120, 270), (152, 460), 0, -1)\n",
    "    cv.rectangle(mask_roi_team2, (1160, 270), (1200, 460), 0, -1)\n",
    "\n",
    "    return roi_white_team2, mask_roi_team2\n"
   ]
  },
  {
   "cell_type": "code",
   "execution_count": 13,
   "id": "78d1b569-7551-496e-8096-efce5c6c7825",
   "metadata": {},
   "outputs": [],
   "source": [
    "def count_valid_players(contours):\n",
    "    return sum(1 for cnt in contours if is_valid_player(cnt))"
   ]
  },
  {
   "cell_type": "code",
   "execution_count": 14,
   "id": "233cba71-d485-4760-b9ad-d6ec7ec1685c",
   "metadata": {},
   "outputs": [],
   "source": [
    "def draw_player_bounding_boxes(frame, contours, color):\n",
    "    for cnt in contours:\n",
    "        if is_valid_player(cnt):\n",
    "            x, y, w, h = cv.boundingRect(cnt)\n",
    "            cv.rectangle(frame, (x, y), (x + w, y + h), color, 2)"
   ]
  },
  {
   "cell_type": "code",
   "execution_count": null,
   "id": "755e714a-dfb9-47f5-af56-244dd2913495",
   "metadata": {},
   "outputs": [],
   "source": [
    "while True:\n",
    "    ret, frame = cap.read()\n",
    "    if not ret:\n",
    "        break\n",
    "\n",
    "    frame_to_show = frame.copy()\n",
    "    frame = remove_extra_ball(frame)\n",
    "    hsv = cv.cvtColor(frame, cv.COLOR_BGR2HSV)\n",
    "\n",
    "    \n",
    "    roi_white_team2, mask_roi_team2 = create_roi_mask(frame.shape)\n",
    "    \n",
    "    \n",
    "    yellow_mask = apply_mask(hsv, \"yellow\", dilation_iterations=5)\n",
    "    blue_mask = apply_mask(hsv, \"blue\")\n",
    "    white_mask_team2 = apply_mask(hsv, \"white\", roi_white_team2)\n",
    "    blue_mask_team2 = cv.bitwise_and(blue_mask, roi_white_team2)\n",
    "    red_mask = apply_mask(hsv, \"red\", mask_roi_team2)\n",
    "\n",
    "    white_player_mask = cv.bitwise_or(blue_mask_team2, white_mask_team2)\n",
    "\n",
    "    mask_roi_blue_team1 = np.zeros(frame.shape[:2], dtype=np.uint8)\n",
    "    cv.rectangle(mask_roi_blue_team1, (200, 150), (1050, 400), 255, -1)\n",
    "    blue_mask = cv.bitwise_and(blue_mask, mask_roi_blue_team1)\n",
    "    blue_mask = cv.dilate(blue_mask, None, iterations=5)\n",
    "\n",
    "   \n",
    "    team1_mask = cv.bitwise_or(blue_mask, yellow_mask)\n",
    "    team2_mask = cv.bitwise_or(red_mask, white_mask_team2)\n",
    "    \n",
    "\n",
    "    team2_mask = cv.morphologyEx(team2_mask, cv.MORPH_OPEN, KERNEL)\n",
    "    team2_mask = cv.dilate(team2_mask, KERNEL, iterations=5)\n",
    "\n",
    "    team1_contours, _ = cv.findContours(team1_mask, cv.RETR_TREE, cv.CHAIN_APPROX_SIMPLE)\n",
    "    team2_contours, _ = cv.findContours(team2_mask, cv.RETR_TREE, cv.CHAIN_APPROX_SIMPLE)\n",
    "    yellow_contours, _ = cv.findContours(yellow_mask, cv.RETR_TREE, cv.CHAIN_APPROX_SIMPLE)\n",
    "\n",
    "    team1_players = count_valid_players(team1_contours)\n",
    "    team2_players = count_valid_players(team2_contours)\n",
    "\n",
    "    total_team1_players.append(team1_players)\n",
    "    total_team2_players.append(team2_players)\n",
    "    \n",
    "    avg_team1 = sum(total_team1_players) / len(total_team1_players) if total_team1_players else 0\n",
    "    avg_team2 = sum(total_team2_players) / len(total_team2_players) if total_team2_players else 0\n",
    "\n",
    "    draw_player_bounding_boxes(frame_to_show, team1_contours, (0, 255, 255))  # Yellow\n",
    "    draw_player_bounding_boxes(frame_to_show, team2_contours, (255, 0, 255))  # Red\n",
    "\n",
    "    max_score, best_contour = 0, None\n",
    "    for cnt in yellow_contours:\n",
    "        area = cv.contourArea(cnt)\n",
    "        perimeter = cv.arcLength(cnt, closed=True)\n",
    "        if 400 < area < 1000:\n",
    "            score = circularity(area, perimeter)\n",
    "            if 0.7 < score < 1.2 and score > max_score:\n",
    "                max_score = score\n",
    "                best_contour = cnt\n",
    "\n",
    "    if best_contour is not None:\n",
    "        x, y, w, h = cv.boundingRect(best_contour)\n",
    "        center = (x + w // 2, y + h // 2)\n",
    "        cv.circle(frame_to_show, center, 10, (0, 255, 0), 3)\n",
    "\n",
    "    cv.putText(frame_to_show, f\"Team 1 Players: {team1_players} (Avg: {int(avg_team1)})\", (50, 50), cv.FONT_HERSHEY_SIMPLEX, 1, (255, 255, 0), 2)\n",
    "    cv.putText(frame_to_show, f\"Team 2 Players: {team2_players} (Avg: {int(avg_team2)})\", (50, 80), cv.FONT_HERSHEY_SIMPLEX, 1, (255, 0, 255), 2)\n",
    "    out.write(frame_to_show)\n",
    "    cv.imshow(\"Final Output\", frame_to_show)\n",
    "    \n",
    "    if cv.waitKey(10) & 0xFF == ord('q'):\n",
    "        break\n",
    "\n",
    "cap.release()\n",
    "cv.destroyAllWindows()\n"
   ]
  }
 ],
 "metadata": {
  "kernelspec": {
   "display_name": "Python 3 (ipykernel)",
   "language": "python",
   "name": "python3"
  },
  "language_info": {
   "codemirror_mode": {
    "name": "ipython",
    "version": 3
   },
   "file_extension": ".py",
   "mimetype": "text/x-python",
   "name": "python",
   "nbconvert_exporter": "python",
   "pygments_lexer": "ipython3",
   "version": "3.12.7"
  }
 },
 "nbformat": 4,
 "nbformat_minor": 5
}
