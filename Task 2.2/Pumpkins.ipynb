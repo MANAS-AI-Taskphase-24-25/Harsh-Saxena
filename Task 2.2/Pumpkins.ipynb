{
 "cells": [
  {
   "cell_type": "code",
   "execution_count": 1,
   "id": "7d79b45c-d593-4c62-8f79-90c9baee1e1b",
   "metadata": {},
   "outputs": [],
   "source": [
    "import pandas as pd\n",
    "import numpy as np\n",
    "import matplotlib.pyplot as plt\n",
    "from sklearn.preprocessing import StandardScaler\n"
   ]
  },
  {
   "cell_type": "code",
   "execution_count": 2,
   "id": "06501c2a-4bf9-453a-ae80-d5d59d255290",
   "metadata": {},
   "outputs": [],
   "source": [
    "e = np.exp(1)"
   ]
  },
  {
   "cell_type": "code",
   "execution_count": 3,
   "id": "c9b80150-7c03-47dd-8962-03000b388cbe",
   "metadata": {},
   "outputs": [],
   "source": [
    "def gradient_descent(X, b, alpha,iterations,y):\n",
    "    samples, columns = X.shape\n",
    "    w = np.zeros(columns)\n",
    "    costl = []\n",
    "    for k in range(iterations):\n",
    "        dw = np.zeros(columns)\n",
    "        db = 0\n",
    "        yp = []\n",
    "        binary_pred = []\n",
    "        for i in range(samples):\n",
    "            ypred =np.dot(w,X.iloc[i])\n",
    "            ypred+=b\n",
    "            ypred = sigmoid(ypred)\n",
    "            db+=  (ypred-y[i])/samples\n",
    "            for j in range(columns):\n",
    "                dw[j] += X.iloc[i, j] * (ypred - y[i].item()) / samples\n",
    "            yp.append(ypred)\n",
    "            if ypred>=0.5:\n",
    "                ypred = 1\n",
    "            else:\n",
    "                ypred = 0\n",
    "            binary_pred.append(ypred)\n",
    "        for j in range(columns):\n",
    "                w[j]= w[j]-alpha*dw[j]\n",
    "        b=b-alpha*db\n",
    "        costi = cost(yp,y)\n",
    "        costl.append(costi)\n",
    "        print(\"Epoch: \",k+1,\"Loss:\", costi,\"Accuracy: \",accuracy(binary_pred,y),\"%\")\n",
    "    return w,b,costl"
   ]
  },
  {
   "cell_type": "code",
   "execution_count": 4,
   "id": "70f54700-8f1a-4286-a520-f73003151846",
   "metadata": {},
   "outputs": [],
   "source": [
    "def sigmoid(z):\n",
    "    z = np.clip(z, -500, 500)\n",
    "    return 1/(1+e**(-z))"
   ]
  },
  {
   "cell_type": "code",
   "execution_count": 5,
   "id": "c084372f-830e-4f6b-bac3-38610d4ed3a5",
   "metadata": {},
   "outputs": [],
   "source": [
    "def cost(ypred,y):\n",
    "    m = len(y)\n",
    "    yp = np.clip(ypred, 1e-15, 1 - 1e-15)\n",
    "    cost_value = -np.sum(y * np.log(yp) + (1 - y) * np.log(1 - yp)) / m\n",
    "    return cost_value"
   ]
  },
  {
   "cell_type": "code",
   "execution_count": 6,
   "id": "abbd76a8-9559-424a-99c6-7b031f4c5cbe",
   "metadata": {},
   "outputs": [],
   "source": [
    "def accuracy(y, ypred):\n",
    "    num = 0\n",
    "    den = len(y)\n",
    "    for i in range(len(y)):\n",
    "        if ypred[i]==y[i]:\n",
    "            num+=1\n",
    "    accuracy = num/den\n",
    "    return accuracy*100"
   ]
  },
  {
   "cell_type": "code",
   "execution_count": 7,
   "id": "1b09a36c-8ea2-49b4-b125-faafcfab3243",
   "metadata": {},
   "outputs": [],
   "source": [
    "dataset = pd.read_csv(\"Gotem_Pumpkins.csv\")\n",
    "features = ['Area','Perimeter','Major_Axis_Length','Minor_Axis_Length','Eccentricity','Solidity','Extent','Roundness','Aspect_Ration','Compactness']\n",
    "X = dataset[features]"
   ]
  },
  {
   "cell_type": "code",
   "execution_count": 8,
   "id": "2d3a8109-d254-4b47-a9bb-33ba78df129a",
   "metadata": {},
   "outputs": [
    {
     "name": "stdout",
     "output_type": "stream",
     "text": [
      "<class 'pandas.core.frame.DataFrame'>\n",
      "RangeIndex: 2000 entries, 0 to 1999\n",
      "Data columns (total 10 columns):\n",
      " #   Column             Non-Null Count  Dtype  \n",
      "---  ------             --------------  -----  \n",
      " 0   Area               2000 non-null   int64  \n",
      " 1   Perimeter          2000 non-null   float64\n",
      " 2   Major_Axis_Length  2000 non-null   float64\n",
      " 3   Minor_Axis_Length  2000 non-null   float64\n",
      " 4   Eccentricity       2000 non-null   float64\n",
      " 5   Solidity           2000 non-null   float64\n",
      " 6   Extent             2000 non-null   float64\n",
      " 7   Roundness          2000 non-null   float64\n",
      " 8   Aspect_Ration      2000 non-null   float64\n",
      " 9   Compactness        2000 non-null   float64\n",
      "dtypes: float64(9), int64(1)\n",
      "memory usage: 156.4 KB\n"
     ]
    }
   ],
   "source": [
    "X.info()"
   ]
  },
  {
   "cell_type": "code",
   "execution_count": 9,
   "id": "556573fa-e52d-4565-932e-bb24f09550c5",
   "metadata": {},
   "outputs": [
    {
     "name": "stdout",
     "output_type": "stream",
     "text": [
      "<class 'pandas.core.frame.DataFrame'>\n",
      "RangeIndex: 2000 entries, 0 to 1999\n",
      "Data columns (total 1 columns):\n",
      " #   Column      Non-Null Count  Dtype\n",
      "---  ------      --------------  -----\n",
      " 0   Çerçevelik  2000 non-null   int32\n",
      "dtypes: int32(1)\n",
      "memory usage: 7.9 KB\n"
     ]
    },
    {
     "data": {
      "text/html": [
       "<div>\n",
       "<style scoped>\n",
       "    .dataframe tbody tr th:only-of-type {\n",
       "        vertical-align: middle;\n",
       "    }\n",
       "\n",
       "    .dataframe tbody tr th {\n",
       "        vertical-align: top;\n",
       "    }\n",
       "\n",
       "    .dataframe thead th {\n",
       "        text-align: right;\n",
       "    }\n",
       "</style>\n",
       "<table border=\"1\" class=\"dataframe\">\n",
       "  <thead>\n",
       "    <tr style=\"text-align: right;\">\n",
       "      <th></th>\n",
       "      <th>Çerçevelik</th>\n",
       "    </tr>\n",
       "  </thead>\n",
       "  <tbody>\n",
       "    <tr>\n",
       "      <th>0</th>\n",
       "      <td>0</td>\n",
       "    </tr>\n",
       "    <tr>\n",
       "      <th>1</th>\n",
       "      <td>0</td>\n",
       "    </tr>\n",
       "    <tr>\n",
       "      <th>2</th>\n",
       "      <td>0</td>\n",
       "    </tr>\n",
       "    <tr>\n",
       "      <th>3</th>\n",
       "      <td>1</td>\n",
       "    </tr>\n",
       "    <tr>\n",
       "      <th>4</th>\n",
       "      <td>0</td>\n",
       "    </tr>\n",
       "  </tbody>\n",
       "</table>\n",
       "</div>"
      ],
      "text/plain": [
       "   Çerçevelik\n",
       "0           0\n",
       "1           0\n",
       "2           0\n",
       "3           1\n",
       "4           0"
      ]
     },
     "execution_count": 9,
     "metadata": {},
     "output_type": "execute_result"
    }
   ],
   "source": [
    "dummies = pd.get_dummies(dataset.Class)\n",
    "dummies = dummies.astype(int)\n",
    "pumpkins = dummies.drop('Ürgüp Sivrisi',axis = 1)\n",
    "pumpkins.info()\n",
    "pumpkins.head()"
   ]
  },
  {
   "cell_type": "code",
   "execution_count": 10,
   "id": "f8462b0c-d489-4731-b91b-f7148ad8a483",
   "metadata": {},
   "outputs": [],
   "source": [
    "y = pumpkins\n",
    "y= y.squeeze()\n",
    "X = (X - X.mean()) / X.std()"
   ]
  },
  {
   "cell_type": "code",
   "execution_count": 11,
   "id": "1feacc13-b9d2-4132-919e-18f6acdb5901",
   "metadata": {},
   "outputs": [
    {
     "name": "stdout",
     "output_type": "stream",
     "text": [
      "Epoch:  1 Loss: 0.6931471805599454 Accuracy:  51.6 %\n",
      "Epoch:  2 Loss: 0.6425101299088312 Accuracy:  85.55 %\n",
      "Epoch:  3 Loss: 0.6017370348985103 Accuracy:  85.65 %\n",
      "Epoch:  4 Loss: 0.5686756562570143 Accuracy:  85.75 %\n",
      "Epoch:  5 Loss: 0.5415985882652523 Accuracy:  85.75 %\n",
      "Epoch:  6 Loss: 0.5191731247668993 Accuracy:  85.75 %\n",
      "Epoch:  7 Loss: 0.5003889947844002 Accuracy:  85.8 %\n",
      "Epoch:  8 Loss: 0.48448357236293194 Accuracy:  85.85000000000001 %\n",
      "Epoch:  9 Loss: 0.4708791544008287 Accuracy:  85.9 %\n",
      "Epoch:  10 Loss: 0.4591347372067627 Accuracy:  85.95 %\n",
      "Epoch:  11 Loss: 0.44891035415762653 Accuracy:  86.05000000000001 %\n",
      "Epoch:  12 Loss: 0.43994111628351346 Accuracy:  86.05000000000001 %\n",
      "Epoch:  13 Loss: 0.4320183850824887 Accuracy:  86.2 %\n",
      "Epoch:  14 Loss: 0.42497607740414906 Accuracy:  86.25 %\n",
      "Epoch:  15 Loss: 0.4186806372715275 Accuracy:  86.3 %\n",
      "Epoch:  16 Loss: 0.41302362959402444 Accuracy:  86.4 %\n",
      "Epoch:  17 Loss: 0.4079162179492673 Accuracy:  86.4 %\n",
      "Epoch:  18 Loss: 0.40328500628992453 Accuracy:  86.4 %\n",
      "Epoch:  19 Loss: 0.3990688766297211 Accuracy:  86.45 %\n",
      "Epoch:  20 Loss: 0.3952165608015608 Accuracy:  86.45 %\n",
      "[-0.05208718 -0.13366897 -0.21143349  0.17596436 -0.28035841 -0.08055054\n",
      "  0.0685847   0.25735545 -0.29084594  0.29364444]\n",
      "0.018254723971956148\n"
     ]
    }
   ],
   "source": [
    "w,b,yaxis=gradient_descent(X,0,0.08,20,y)\n",
    "print(w)\n",
    "print(b)"
   ]
  },
  {
   "cell_type": "code",
   "execution_count": 12,
   "id": "de5a91c3-ceb4-4dae-b3b2-feeedb8cdab4",
   "metadata": {},
   "outputs": [],
   "source": [
    "testdataset = pd.read_csv(\"Freyja_Pumpkins.csv\")\n",
    "features = ['Area','Perimeter','Major_Axis_Length','Minor_Axis_Length','Eccentricity','Solidity','Extent','Roundness','Aspect_Ration','Compactness']\n",
    "testX = testdataset[features]"
   ]
  },
  {
   "cell_type": "code",
   "execution_count": 13,
   "id": "ab4d4a14-5622-453f-84e6-c5f086d47697",
   "metadata": {},
   "outputs": [
    {
     "name": "stdout",
     "output_type": "stream",
     "text": [
      "<class 'pandas.core.frame.DataFrame'>\n",
      "RangeIndex: 500 entries, 0 to 499\n",
      "Data columns (total 1 columns):\n",
      " #   Column      Non-Null Count  Dtype\n",
      "---  ------      --------------  -----\n",
      " 0   Çerçevelik  500 non-null    int32\n",
      "dtypes: int32(1)\n",
      "memory usage: 2.1 KB\n"
     ]
    },
    {
     "data": {
      "text/html": [
       "<div>\n",
       "<style scoped>\n",
       "    .dataframe tbody tr th:only-of-type {\n",
       "        vertical-align: middle;\n",
       "    }\n",
       "\n",
       "    .dataframe tbody tr th {\n",
       "        vertical-align: top;\n",
       "    }\n",
       "\n",
       "    .dataframe thead th {\n",
       "        text-align: right;\n",
       "    }\n",
       "</style>\n",
       "<table border=\"1\" class=\"dataframe\">\n",
       "  <thead>\n",
       "    <tr style=\"text-align: right;\">\n",
       "      <th></th>\n",
       "      <th>Çerçevelik</th>\n",
       "    </tr>\n",
       "  </thead>\n",
       "  <tbody>\n",
       "    <tr>\n",
       "      <th>0</th>\n",
       "      <td>1</td>\n",
       "    </tr>\n",
       "    <tr>\n",
       "      <th>1</th>\n",
       "      <td>1</td>\n",
       "    </tr>\n",
       "    <tr>\n",
       "      <th>2</th>\n",
       "      <td>0</td>\n",
       "    </tr>\n",
       "    <tr>\n",
       "      <th>3</th>\n",
       "      <td>1</td>\n",
       "    </tr>\n",
       "    <tr>\n",
       "      <th>4</th>\n",
       "      <td>1</td>\n",
       "    </tr>\n",
       "  </tbody>\n",
       "</table>\n",
       "</div>"
      ],
      "text/plain": [
       "   Çerçevelik\n",
       "0           1\n",
       "1           1\n",
       "2           0\n",
       "3           1\n",
       "4           1"
      ]
     },
     "execution_count": 13,
     "metadata": {},
     "output_type": "execute_result"
    }
   ],
   "source": [
    "testdummies = pd.get_dummies(testdataset.Class)\n",
    "testdummies = testdummies.astype(int)\n",
    "testpumpkins = testdummies.drop('Ürgüp Sivrisi',axis = 1)\n",
    "testpumpkins.info()\n",
    "testpumpkins.head()"
   ]
  },
  {
   "cell_type": "code",
   "execution_count": 14,
   "id": "69756935-8c40-432a-b13f-71287ef53d30",
   "metadata": {},
   "outputs": [],
   "source": [
    "testy = testpumpkins\n",
    "testy= testy.squeeze()\n",
    "testX = (testX - testX.mean()) / testX.std()"
   ]
  },
  {
   "cell_type": "code",
   "execution_count": 15,
   "id": "d5b0fc85-0de8-4b9c-80cd-8b05475eca2a",
   "metadata": {},
   "outputs": [],
   "source": [
    "def pred(X, y, w, b):\n",
    "    samples, columns = X.shape\n",
    "    yp = [] \n",
    "    cost = 0  \n",
    "    for i in range(samples):\n",
    "        linear_output = np.dot(X.iloc[i], w) + b\n",
    "        y_pred = sigmoid(linear_output)\n",
    "        yp.append(y_pred)\n",
    "        cost -= (y.iloc[i] * np.log(y_pred) + (1 - y.iloc[i]) * np.log(1 - y_pred))\n",
    "    cost /= samples\n",
    "    binary_pred = [1 if p >= 0.5 else 0 for p in yp]\n",
    "    acc = accuracy(y, binary_pred)\n",
    "    return cost, acc"
   ]
  },
  {
   "cell_type": "code",
   "execution_count": 16,
   "id": "be1e13df-7bdb-4a73-9e8f-f5ecd618fc73",
   "metadata": {},
   "outputs": [
    {
     "name": "stdout",
     "output_type": "stream",
     "text": [
      "Cost: 0.3753108055335323\n",
      "Accuracy:87.0%\n"
     ]
    }
   ],
   "source": [
    "cost, acc = pred(testX,testy,w,b)\n",
    "print(\"Cost:\",cost)\n",
    "print(\"Accuracy:\"+str(acc)+'%')"
   ]
  }
 ],
 "metadata": {
  "kernelspec": {
   "display_name": "Python 3 (ipykernel)",
   "language": "python",
   "name": "python3"
  },
  "language_info": {
   "codemirror_mode": {
    "name": "ipython",
    "version": 3
   },
   "file_extension": ".py",
   "mimetype": "text/x-python",
   "name": "python",
   "nbconvert_exporter": "python",
   "pygments_lexer": "ipython3",
   "version": "3.12.7"
  }
 },
 "nbformat": 4,
 "nbformat_minor": 5
}
