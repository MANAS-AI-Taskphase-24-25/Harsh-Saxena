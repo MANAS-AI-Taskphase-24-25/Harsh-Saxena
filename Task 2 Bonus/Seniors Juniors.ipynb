{
 "cells": [
  {
   "cell_type": "code",
   "execution_count": 1,
   "id": "ef1dba4f-f075-45e5-8835-7ce80b666193",
   "metadata": {},
   "outputs": [],
   "source": [
    "import numpy as np\n",
    "import pandas as pd\n",
    "import matplotlib.pyplot as plt"
   ]
  },
  {
   "cell_type": "code",
   "execution_count": 2,
   "id": "bfa943a1-8354-4988-98f4-68208b3cb935",
   "metadata": {},
   "outputs": [],
   "source": [
    "def cost(ypred,y):\n",
    "    cost = 0\n",
    "    for i in range (len(ypred)):\n",
    "        cost += (ypred[i]-y.iloc[i])**2\n",
    "    cost = cost/(len(y))\n",
    "    cost = cost**(0.5)\n",
    "    return cost"
   ]
  },
  {
   "cell_type": "code",
   "execution_count": 3,
   "id": "f680dc12-7ed2-4c70-9a6b-a57be1e71632",
   "metadata": {},
   "outputs": [],
   "source": [
    "def r2score(y, ypred):\n",
    "    mean = y.mean()\n",
    "    num = 0\n",
    "    den = 0\n",
    "    for i in range(len(ypred)):\n",
    "        num += (ypred[i]-y.iloc[i])**2\n",
    "        den += (y.iloc[i]-mean)**2\n",
    "    accuracy = 1 - num/den\n",
    "    #print(mean,num,den)\n",
    "    return accuracy*100"
   ]
  },
  {
   "cell_type": "code",
   "execution_count": 58,
   "id": "6157b40d-d378-43ae-a1f6-bf0ed579e198",
   "metadata": {},
   "outputs": [
    {
     "name": "stdout",
     "output_type": "stream",
     "text": [
      "<class 'pandas.core.frame.DataFrame'>\n",
      "RangeIndex: 2500 entries, 0 to 2499\n",
      "Data columns (total 4 columns):\n",
      " #   Column                          Non-Null Count  Dtype  \n",
      "---  ------                          --------------  -----  \n",
      " 0   Temperature (°C)                2500 non-null   float64\n",
      " 1   Temperature x Pressure          2500 non-null   float64\n",
      " 2   Material Fusion Metric          2500 non-null   float64\n",
      " 3   Material Transformation Metric  2500 non-null   float64\n",
      "dtypes: float64(4)\n",
      "memory usage: 78.3 KB\n"
     ]
    }
   ],
   "source": [
    "dataset = pd.read_csv(\"Seniors.csv\")\n",
    "features = ['Temperature (°C)','Temperature x Pressure','Material Fusion Metric','Material Transformation Metric']\n",
    "X = dataset[features]\n",
    "X.info()"
   ]
  },
  {
   "cell_type": "code",
   "execution_count": 60,
   "id": "3cd269cb-6132-4d64-ae9a-72c3335043f3",
   "metadata": {},
   "outputs": [
    {
     "name": "stdout",
     "output_type": "stream",
     "text": [
      "Unnamed: 0                        0.003135\n",
      "Temperature (°C)                 -0.470129\n",
      "Pressure (kPa)                    0.016942\n",
      "Temperature x Pressure           -0.259878\n",
      "Material Fusion Metric           -0.519979\n",
      "Material Transformation Metric   -0.585221\n",
      "Quality Rating                    1.000000\n",
      "Name: Quality Rating, dtype: float64\n"
     ]
    }
   ],
   "source": [
    "datacorr = dataset.corr()\n",
    "print(datacorr['Quality Rating'])"
   ]
  },
  {
   "cell_type": "code",
   "execution_count": 62,
   "id": "c04d1311-45d3-47ef-ba77-78deebf228b1",
   "metadata": {},
   "outputs": [],
   "source": [
    "X = X.copy()\n",
    "X['Temp2'] = X['Temperature (°C)'] ** 2\n",
    "X['Temp3'] = X['Temperature (°C)'] ** 3\n",
    "X['Temp4'] = X['Temperature (°C)'] ** 4\n",
    "X[ 'Temp5'] = X['Temperature (°C)'] ** 5\n",
    "X[ 'Temp6'] = X['Temperature (°C)'] ** 6\n",
    "X['Temp7'] = X['Temperature (°C)'] ** 7\n",
    "X['Press2']=X['Temperature x Pressure']**2\n",
    "X['Press3']=X['Temperature x Pressure']**3\n",
    "X['Press4']=X['Temperature x Pressure']**4\n",
    "X['Material2']=X['Material Fusion Metric']**2\n",
    "X['Material3']=X['Material Fusion Metric']**3\n",
    "X['Material4']=X['Material Fusion Metric']**4\n",
    "X['Trans2']=X['Material Transformation Metric']**2\n",
    "X['Trans3']=X['Material Transformation Metric']**3\n",
    "X['Trans4']=X['Material Transformation Metric']**4\n",
    "X['Trans5']=X['Material Transformation Metric']**5\n",
    "X['Trans6']=X['Material Transformation Metric']**6\n",
    "X['Trans7']=X['Material Transformation Metric']**7"
   ]
  },
  {
   "cell_type": "code",
   "execution_count": 71,
   "id": "c5bea26f-63d0-4729-af6a-809ba0b84821",
   "metadata": {},
   "outputs": [],
   "source": [
    "X = (X - X.mean()) / X.std()"
   ]
  },
  {
   "cell_type": "code",
   "execution_count": 73,
   "id": "d2663439-bff8-43e5-9368-844cd700439a",
   "metadata": {},
   "outputs": [],
   "source": [
    "y = dataset['Quality Rating']\n",
    "mean = y.mean()\n",
    "standard = y.std()\n",
    "y = (y - y.mean()) / y.std()\n"
   ]
  },
  {
   "cell_type": "code",
   "execution_count": 66,
   "id": "5d8f6c18-695d-49c9-9b65-040473bd6139",
   "metadata": {},
   "outputs": [],
   "source": [
    "def gradient_descent(X, b, alpha,iterations,y):\n",
    "    samples, columns = X.shape\n",
    "    w = np.zeros(columns)\n",
    "    costl = []\n",
    "    for k in range(iterations):\n",
    "        dw = np.zeros(columns)\n",
    "        db = 0\n",
    "        yp = []\n",
    "        for i in range(samples):\n",
    "            ypred =np.dot(w,X.iloc[i])\n",
    "            ypred+=b\n",
    "            db+=  (ypred-y.iloc[i])/samples\n",
    "            for j in range(columns):\n",
    "                dw[j] += X.iloc[i,j]*(ypred-y.iloc[i])/samples\n",
    "            yp.append(ypred)\n",
    "        for j in range(columns):\n",
    "                w[j]= w[j]-alpha*dw[j]\n",
    "        b=b-alpha*db\n",
    "        costi = cost(yp,y)\n",
    "        costl.append(costi)\n",
    "        print(\"Epoch: \",k+1,\" Accuracy: \",r2score(y,yp),\"%\")\n",
    "    return w,b,costl"
   ]
  },
  {
   "cell_type": "code",
   "execution_count": 75,
   "id": "96fe6edd-be47-42c3-801e-7e8fa5437492",
   "metadata": {},
   "outputs": [
    {
     "name": "stdout",
     "output_type": "stream",
     "text": [
      "Epoch:  1  Accuracy:  0.0 %\n",
      "Epoch:  2  Accuracy:  27.86034455946701 %\n",
      "Epoch:  3  Accuracy:  46.08798603216952 %\n",
      "Epoch:  4  Accuracy:  58.18755864051464 %\n",
      "Epoch:  5  Accuracy:  66.3456205615277 %\n",
      "Epoch:  6  Accuracy:  71.93910452203515 %\n",
      "Epoch:  7  Accuracy:  75.84351899594816 %\n",
      "Epoch:  8  Accuracy:  78.62119308350849 %\n",
      "Epoch:  9  Accuracy:  80.63714353177639 %\n",
      "Epoch:  10  Accuracy:  82.13095195485155 %\n",
      "Epoch:  11  Accuracy:  83.26170919419238 %\n",
      "Epoch:  12  Accuracy:  84.13634804038614 %\n",
      "Epoch:  13  Accuracy:  84.82765404085922 %\n",
      "Epoch:  14  Accuracy:  85.38581447547158 %\n",
      "Epoch:  15  Accuracy:  85.84589119479529 %\n",
      "Epoch:  16  Accuracy:  86.23270216062609 %\n",
      "Epoch:  17  Accuracy:  86.56404235900348 %\n",
      "Epoch:  18  Accuracy:  86.85283156203145 %\n",
      "Epoch:  19  Accuracy:  87.1085624623652 %\n",
      "Epoch:  20  Accuracy:  87.33828844036505 %\n",
      "[ 0.05739868  0.00786102  0.04660667  0.04610967  0.05496745  0.04610875\n",
      "  0.03183308  0.01348325 -0.00766807 -0.03057826  0.00963698  0.00874279\n",
      "  0.00540183  0.0277476  -0.00490188 -0.04377764 -0.00766871 -0.07872381\n",
      " -0.15036561 -0.21668921 -0.27615512 -0.32879855]\n",
      "-4.150639318464995e-17\n"
     ]
    }
   ],
   "source": [
    "w,b,yaxis=gradient_descent(X,0,0.1,20,y)\n",
    "print(w)\n",
    "print(b)"
   ]
  },
  {
   "cell_type": "markdown",
   "id": "feb9819f-d248-41a3-a0cd-3df063adc452",
   "metadata": {},
   "source": [
    "After some more manipulation to the training data and running the model for a 100 epochs, we reach an accuracy of 98.73869586837678%, which seems severely overfitted but good for showcase.\n",
    "Weights and Bias after the 100 epochs:\n",
    "[ 1.32063711e-02 -6.80927708e-03  1.33009814e-02  2.88383082e-02\n",
    "  5.67646651e-02 -7.95777490e-04  1.89666314e-03 -9.60060172e-02\n",
    " -8.29897793e-02 -1.68629963e-02 -4.40469882e-03  3.93749544e-04\n",
    "  7.11627792e-02  4.09005448e-02 -1.87191037e-02  8.00808714e-02\n",
    " -1.01201156e-02 -1.22299321e-01 -2.18723197e-01 -3.30422636e-01\n",
    " -4.18988133e-01  6.08835869e-02]\n",
    "\n",
    "2.5648031911407103e-17"
   ]
  },
  {
   "cell_type": "code",
   "execution_count": 78,
   "id": "1ce6219c-61b3-4adc-9698-56ed5a730c21",
   "metadata": {},
   "outputs": [],
   "source": [
    "testdata = pd.read_csv(\"Juniors.csv\")\n",
    "features = ['Temperature (°C)','Temperature x Pressure','Material Fusion Metric','Material Transformation Metric']\n",
    "X = dataset[features]"
   ]
  },
  {
   "cell_type": "code",
   "execution_count": 80,
   "id": "2e5b720c-dae3-4868-8bc6-7daaad45fd29",
   "metadata": {},
   "outputs": [],
   "source": [
    "X = X.copy()\n",
    "X['Temp2'] = X['Temperature (°C)'] ** 2\n",
    "X['Temp3'] = X['Temperature (°C)'] ** 3\n",
    "X['Temp4'] = X['Temperature (°C)'] ** 4\n",
    "X[ 'Temp5'] = X['Temperature (°C)'] ** 5\n",
    "X[ 'Temp6'] = X['Temperature (°C)'] ** 6\n",
    "X['Temp7'] = X['Temperature (°C)'] ** 7\n",
    "X['Press2']=X['Temperature x Pressure']**2\n",
    "X['Press3']=X['Temperature x Pressure']**3\n",
    "X['Press4']=X['Temperature x Pressure']**4\n",
    "X['Material2']=X['Material Fusion Metric']**2\n",
    "X['Material3']=X['Material Fusion Metric']**3\n",
    "X['Material4']=X['Material Fusion Metric']**4\n",
    "X['Trans2']=X['Material Transformation Metric']**2\n",
    "X['Trans3']=X['Material Transformation Metric']**3\n",
    "X['Trans4']=X['Material Transformation Metric']**4\n",
    "X['Trans5']=X['Material Transformation Metric']**5\n",
    "X['Trans6']=X['Material Transformation Metric']**6\n",
    "X['Trans7']=X['Material Transformation Metric']**7"
   ]
  },
  {
   "cell_type": "code",
   "execution_count": 82,
   "id": "a6dac961-a66b-498c-9a9e-0abd80c0aa63",
   "metadata": {},
   "outputs": [],
   "source": [
    "X = (X - X.mean()) / X.std()"
   ]
  },
  {
   "cell_type": "code",
   "execution_count": 88,
   "id": "c0191501-ee17-42e6-abe8-9aa418b1ba65",
   "metadata": {},
   "outputs": [],
   "source": [
    "def pred(x,w,b):\n",
    "    samples, columns = x.shape\n",
    "    ypred = []\n",
    "    for i in range(samples):\n",
    "        yp = 0\n",
    "        for j in range(columns):\n",
    "            yp += x.iloc[i,j]*w[j]+b\n",
    "        yp = (yp*standard)+mean\n",
    "        if yp >100:\n",
    "            yp = 100\n",
    "        ypred.append(yp)\n",
    "    return ypred"
   ]
  },
  {
   "cell_type": "code",
   "execution_count": 92,
   "id": "57c9dd5c-edfa-42b8-872f-aa1a501291c4",
   "metadata": {},
   "outputs": [],
   "source": [
    "qual_pred = pred(X,w,b)\n"
   ]
  },
  {
   "cell_type": "code",
   "execution_count": 94,
   "id": "ae7ed0f3-97f0-4b09-9ddf-afe906c3a75c",
   "metadata": {},
   "outputs": [],
   "source": [
    "pd.DataFrame(qual_pred).to_csv('output.csv', index=False, header=False)"
   ]
  }
 ],
 "metadata": {
  "kernelspec": {
   "display_name": "Python 3 (ipykernel)",
   "language": "python",
   "name": "python3"
  },
  "language_info": {
   "codemirror_mode": {
    "name": "ipython",
    "version": 3
   },
   "file_extension": ".py",
   "mimetype": "text/x-python",
   "name": "python",
   "nbconvert_exporter": "python",
   "pygments_lexer": "ipython3",
   "version": "3.12.7"
  }
 },
 "nbformat": 4,
 "nbformat_minor": 5
}
